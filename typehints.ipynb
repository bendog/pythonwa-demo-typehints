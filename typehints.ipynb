{
 "cells": [
  {
   "cell_type": "code",
   "execution_count": 36,
   "metadata": {
    "collapsed": true,
    "ExecuteTime": {
     "end_time": "2023-06-01T04:45:10.407315Z",
     "start_time": "2023-06-01T04:45:10.404304Z"
    }
   },
   "outputs": [],
   "source": [
    "def hello(thing):\n",
    "    return \"Hello \" + thing\n"
   ]
  },
  {
   "cell_type": "code",
   "execution_count": 37,
   "outputs": [
    {
     "data": {
      "text/plain": "'Hello python WA'"
     },
     "execution_count": 37,
     "metadata": {},
     "output_type": "execute_result"
    }
   ],
   "source": [
    "hello(\"python WA\")\n"
   ],
   "metadata": {
    "collapsed": false,
    "ExecuteTime": {
     "end_time": "2023-06-01T04:45:10.887557Z",
     "start_time": "2023-06-01T04:45:10.886156Z"
    }
   }
  },
  {
   "cell_type": "code",
   "execution_count": 38,
   "outputs": [
    {
     "ename": "TypeError",
     "evalue": "can only concatenate str (not \"int\") to str",
     "output_type": "error",
     "traceback": [
      "\u001B[0;31m---------------------------------------------------------------------------\u001B[0m",
      "\u001B[0;31mTypeError\u001B[0m                                 Traceback (most recent call last)",
      "Cell \u001B[0;32mIn[38], line 1\u001B[0m\n\u001B[0;32m----> 1\u001B[0m \u001B[43mhello\u001B[49m\u001B[43m(\u001B[49m\u001B[38;5;241;43m3\u001B[39;49m\u001B[43m)\u001B[49m\n",
      "Cell \u001B[0;32mIn[36], line 2\u001B[0m, in \u001B[0;36mhello\u001B[0;34m(thing)\u001B[0m\n\u001B[1;32m      1\u001B[0m \u001B[38;5;28;01mdef\u001B[39;00m \u001B[38;5;21mhello\u001B[39m(thing):\n\u001B[0;32m----> 2\u001B[0m     \u001B[38;5;28;01mreturn\u001B[39;00m \u001B[38;5;124;43m\"\u001B[39;49m\u001B[38;5;124;43mHello \u001B[39;49m\u001B[38;5;124;43m\"\u001B[39;49m\u001B[43m \u001B[49m\u001B[38;5;241;43m+\u001B[39;49m\u001B[43m \u001B[49m\u001B[43mthing\u001B[49m\n",
      "\u001B[0;31mTypeError\u001B[0m: can only concatenate str (not \"int\") to str"
     ]
    }
   ],
   "source": [
    "hello(3)\n"
   ],
   "metadata": {
    "collapsed": false,
    "ExecuteTime": {
     "end_time": "2023-06-01T04:45:11.206377Z",
     "start_time": "2023-06-01T04:45:11.199133Z"
    }
   }
  },
  {
   "cell_type": "code",
   "execution_count": 39,
   "outputs": [],
   "source": [
    "def hello(thing: str) -> str:\n",
    "    return \"Hello \" + thing\n"
   ],
   "metadata": {
    "collapsed": false,
    "ExecuteTime": {
     "end_time": "2023-06-01T04:45:11.633263Z",
     "start_time": "2023-06-01T04:45:11.625799Z"
    }
   }
  },
  {
   "cell_type": "code",
   "execution_count": 40,
   "outputs": [
    {
     "ename": "TypeError",
     "evalue": "can only concatenate str (not \"int\") to str",
     "output_type": "error",
     "traceback": [
      "\u001B[0;31m---------------------------------------------------------------------------\u001B[0m",
      "\u001B[0;31mTypeError\u001B[0m                                 Traceback (most recent call last)",
      "Cell \u001B[0;32mIn[40], line 1\u001B[0m\n\u001B[0;32m----> 1\u001B[0m \u001B[43mhello\u001B[49m\u001B[43m(\u001B[49m\u001B[38;5;241;43m33\u001B[39;49m\u001B[43m)\u001B[49m\n",
      "Cell \u001B[0;32mIn[39], line 2\u001B[0m, in \u001B[0;36mhello\u001B[0;34m(thing)\u001B[0m\n\u001B[1;32m      1\u001B[0m \u001B[38;5;28;01mdef\u001B[39;00m \u001B[38;5;21mhello\u001B[39m(thing: \u001B[38;5;28mstr\u001B[39m) \u001B[38;5;241m-\u001B[39m\u001B[38;5;241m>\u001B[39m \u001B[38;5;28mstr\u001B[39m:\n\u001B[0;32m----> 2\u001B[0m     \u001B[38;5;28;01mreturn\u001B[39;00m \u001B[38;5;124;43m\"\u001B[39;49m\u001B[38;5;124;43mHello \u001B[39;49m\u001B[38;5;124;43m\"\u001B[39;49m\u001B[43m \u001B[49m\u001B[38;5;241;43m+\u001B[39;49m\u001B[43m \u001B[49m\u001B[43mthing\u001B[49m\n",
      "\u001B[0;31mTypeError\u001B[0m: can only concatenate str (not \"int\") to str"
     ]
    }
   ],
   "source": [
    "hello(33)\n"
   ],
   "metadata": {
    "collapsed": false,
    "ExecuteTime": {
     "end_time": "2023-06-01T04:45:12.006468Z",
     "start_time": "2023-06-01T04:45:11.997972Z"
    }
   }
  },
  {
   "cell_type": "code",
   "execution_count": 41,
   "outputs": [],
   "source": [
    "import datetime \n",
    "\n",
    "\n",
    "def day_of_week(lookup_date: datetime.date) -> str:\n",
    "    return lookup_date.weekday()\n"
   ],
   "metadata": {
    "collapsed": false,
    "ExecuteTime": {
     "end_time": "2023-06-01T04:45:12.698626Z",
     "start_time": "2023-06-01T04:45:12.659541Z"
    }
   }
  },
  {
   "cell_type": "code",
   "execution_count": 42,
   "outputs": [
    {
     "ename": "AttributeError",
     "evalue": "'str' object has no attribute 'weekday'",
     "output_type": "error",
     "traceback": [
      "\u001B[0;31m---------------------------------------------------------------------------\u001B[0m",
      "\u001B[0;31mAttributeError\u001B[0m                            Traceback (most recent call last)",
      "Cell \u001B[0;32mIn[42], line 1\u001B[0m\n\u001B[0;32m----> 1\u001B[0m \u001B[43mday_of_week\u001B[49m\u001B[43m(\u001B[49m\u001B[38;5;124;43m\"\u001B[39;49m\u001B[38;5;124;43m2000-01-01\u001B[39;49m\u001B[38;5;124;43m\"\u001B[39;49m\u001B[43m)\u001B[49m\n",
      "Cell \u001B[0;32mIn[41], line 5\u001B[0m, in \u001B[0;36mday_of_week\u001B[0;34m(lookup_date)\u001B[0m\n\u001B[1;32m      4\u001B[0m \u001B[38;5;28;01mdef\u001B[39;00m \u001B[38;5;21mday_of_week\u001B[39m(lookup_date: datetime\u001B[38;5;241m.\u001B[39mdate) \u001B[38;5;241m-\u001B[39m\u001B[38;5;241m>\u001B[39m \u001B[38;5;28mstr\u001B[39m:\n\u001B[0;32m----> 5\u001B[0m     \u001B[38;5;28;01mreturn\u001B[39;00m \u001B[43mlookup_date\u001B[49m\u001B[38;5;241;43m.\u001B[39;49m\u001B[43mweekday\u001B[49m()\n",
      "\u001B[0;31mAttributeError\u001B[0m: 'str' object has no attribute 'weekday'"
     ]
    }
   ],
   "source": [
    "\n",
    "day_of_week(\"2000-01-01\")\n"
   ],
   "metadata": {
    "collapsed": false,
    "ExecuteTime": {
     "end_time": "2023-06-01T04:45:13.099849Z",
     "start_time": "2023-06-01T04:45:13.087265Z"
    }
   }
  },
  {
   "cell_type": "code",
   "execution_count": 43,
   "outputs": [
    {
     "data": {
      "text/plain": "5"
     },
     "execution_count": 43,
     "metadata": {},
     "output_type": "execute_result"
    }
   ],
   "source": [
    "day_of_week(datetime.date(2000,1,1))\n"
   ],
   "metadata": {
    "collapsed": false,
    "ExecuteTime": {
     "end_time": "2023-06-01T04:45:13.471194Z",
     "start_time": "2023-06-01T04:45:13.469401Z"
    }
   }
  },
  {
   "cell_type": "code",
   "execution_count": 44,
   "outputs": [],
   "source": [
    "def day_of_week(lookup_date: datetime.date) -> str:\n",
    "    return lookup_date.strftime('%A')\n"
   ],
   "metadata": {
    "collapsed": false,
    "ExecuteTime": {
     "end_time": "2023-06-01T04:45:13.842124Z",
     "start_time": "2023-06-01T04:45:13.840630Z"
    }
   }
  },
  {
   "cell_type": "code",
   "execution_count": 45,
   "outputs": [
    {
     "data": {
      "text/plain": "'Saturday'"
     },
     "execution_count": 45,
     "metadata": {},
     "output_type": "execute_result"
    }
   ],
   "source": [
    "day_of_week(datetime.date(2000,1,1))"
   ],
   "metadata": {
    "collapsed": false,
    "ExecuteTime": {
     "end_time": "2023-06-01T04:45:14.224904Z",
     "start_time": "2023-06-01T04:45:14.214989Z"
    }
   }
  },
  {
   "cell_type": "markdown",
   "source": [
    "## classes"
   ],
   "metadata": {
    "collapsed": false
   }
  },
  {
   "cell_type": "code",
   "execution_count": 46,
   "outputs": [],
   "source": [
    "\n",
    "class Person:\n",
    "    def __init__(self, name: str, birthday: datetime.date, gender: str) -> None:\n",
    "        self.name : str = name\n",
    "        self.birthday: datetime.date = birthday\n",
    "        self.gender: str = gender\n",
    "        \n",
    "    def day_of_birth(self) -> str:\n",
    "        return day_of_week(self.birthday)\n",
    "    \n",
    "    def __repr__(self) -> str:\n",
    "        return f\"{self.name} ({self.birthday}) {self.gender}\""
   ],
   "metadata": {
    "collapsed": false,
    "ExecuteTime": {
     "end_time": "2023-06-01T04:45:14.770262Z",
     "start_time": "2023-06-01T04:45:14.761287Z"
    }
   }
  },
  {
   "cell_type": "code",
   "execution_count": 47,
   "outputs": [
    {
     "ename": "TypeError",
     "evalue": "Person.__init__() missing 1 required positional argument: 'gender'",
     "output_type": "error",
     "traceback": [
      "\u001B[0;31m---------------------------------------------------------------------------\u001B[0m",
      "\u001B[0;31mTypeError\u001B[0m                                 Traceback (most recent call last)",
      "Cell \u001B[0;32mIn[47], line 1\u001B[0m\n\u001B[0;32m----> 1\u001B[0m jane \u001B[38;5;241m=\u001B[39m \u001B[43mPerson\u001B[49m\u001B[43m(\u001B[49m\u001B[38;5;124;43m\"\u001B[39;49m\u001B[38;5;124;43mJane\u001B[39;49m\u001B[38;5;124;43m\"\u001B[39;49m\u001B[43m,\u001B[49m\u001B[43m \u001B[49m\u001B[43mdatetime\u001B[49m\u001B[38;5;241;43m.\u001B[39;49m\u001B[43mdate\u001B[49m\u001B[43m(\u001B[49m\u001B[38;5;241;43m2000\u001B[39;49m\u001B[43m,\u001B[49m\u001B[38;5;241;43m1\u001B[39;49m\u001B[43m,\u001B[49m\u001B[38;5;241;43m1\u001B[39;49m\u001B[43m)\u001B[49m\u001B[43m)\u001B[49m\n",
      "\u001B[0;31mTypeError\u001B[0m: Person.__init__() missing 1 required positional argument: 'gender'"
     ]
    }
   ],
   "source": [
    "jane = Person(\"Jane\", datetime.date(2000,1,1))"
   ],
   "metadata": {
    "collapsed": false,
    "ExecuteTime": {
     "end_time": "2023-06-01T04:45:14.998283Z",
     "start_time": "2023-06-01T04:45:14.970222Z"
    }
   }
  },
  {
   "cell_type": "code",
   "execution_count": 48,
   "outputs": [
    {
     "data": {
      "text/plain": "Jane (2000-01-01) female"
     },
     "execution_count": 48,
     "metadata": {},
     "output_type": "execute_result"
    }
   ],
   "source": [
    "jane: Person = Person(\"Jane\", datetime.date(2000,1,1), \"female\")\n",
    "jane\n"
   ],
   "metadata": {
    "collapsed": false,
    "ExecuteTime": {
     "end_time": "2023-06-01T04:45:15.176750Z",
     "start_time": "2023-06-01T04:45:15.169097Z"
    }
   }
  },
  {
   "cell_type": "code",
   "execution_count": 49,
   "outputs": [],
   "source": [
    "class Person:\n",
    "    def __init__(self, name: str, birthday: datetime.date, gender: str | None = None) -> None:\n",
    "        self.name : str = name\n",
    "        self.birthday: datetime.date = birthday\n",
    "        self.gender: str | None = gender\n",
    "        \n",
    "    def day_of_birth(self) -> str:\n",
    "        return day_of_week(self.birthday)\n",
    "    \n",
    "    def __repr__(self) -> str:\n",
    "        return f\"{self.name} ({self.birthday}) {self.gender}\""
   ],
   "metadata": {
    "collapsed": false,
    "ExecuteTime": {
     "end_time": "2023-06-01T04:45:15.390237Z",
     "start_time": "2023-06-01T04:45:15.386896Z"
    }
   }
  },
  {
   "cell_type": "code",
   "execution_count": 66,
   "outputs": [
    {
     "data": {
      "text/plain": "Jane (2000-01-01) None"
     },
     "execution_count": 66,
     "metadata": {},
     "output_type": "execute_result"
    }
   ],
   "source": [
    "jane: Person = Person(\"Jane\", datetime.date(2000,1,1))\n",
    "jane"
   ],
   "metadata": {
    "collapsed": false,
    "ExecuteTime": {
     "end_time": "2023-06-01T04:46:43.679040Z",
     "start_time": "2023-06-01T04:46:43.675551Z"
    }
   }
  },
  {
   "cell_type": "code",
   "execution_count": 68,
   "outputs": [
    {
     "data": {
      "text/plain": "'Saturday'"
     },
     "execution_count": 68,
     "metadata": {},
     "output_type": "execute_result"
    }
   ],
   "source": [
    "jane.day_of_birth().capitalize()"
   ],
   "metadata": {
    "collapsed": false,
    "ExecuteTime": {
     "end_time": "2023-06-01T04:47:14.227566Z",
     "start_time": "2023-06-01T04:47:14.222734Z"
    }
   }
  },
  {
   "cell_type": "code",
   "execution_count": 69,
   "outputs": [
    {
     "ename": "TypeError",
     "evalue": "unsupported operand type(s) for /: 'str' and 'int'",
     "output_type": "error",
     "traceback": [
      "\u001B[0;31m---------------------------------------------------------------------------\u001B[0m",
      "\u001B[0;31mTypeError\u001B[0m                                 Traceback (most recent call last)",
      "Cell \u001B[0;32mIn[69], line 1\u001B[0m\n\u001B[0;32m----> 1\u001B[0m \u001B[43mjane\u001B[49m\u001B[38;5;241;43m.\u001B[39;49m\u001B[43mday_of_birth\u001B[49m\u001B[43m(\u001B[49m\u001B[43m)\u001B[49m\u001B[43m \u001B[49m\u001B[38;5;241;43m/\u001B[39;49m\u001B[43m \u001B[49m\u001B[38;5;241;43m2\u001B[39;49m\n",
      "\u001B[0;31mTypeError\u001B[0m: unsupported operand type(s) for /: 'str' and 'int'"
     ]
    }
   ],
   "source": [
    "jane.day_of_birth() / 2"
   ],
   "metadata": {
    "collapsed": false,
    "ExecuteTime": {
     "end_time": "2023-06-01T04:48:12.889204Z",
     "start_time": "2023-06-01T04:48:12.879279Z"
    }
   }
  },
  {
   "cell_type": "code",
   "execution_count": 71,
   "outputs": [],
   "source": [
    "# type hints are not enforced\n",
    "jane.gender = 1"
   ],
   "metadata": {
    "collapsed": false,
    "ExecuteTime": {
     "end_time": "2023-06-01T04:49:02.799575Z",
     "start_time": "2023-06-01T04:49:02.797347Z"
    }
   }
  },
  {
   "cell_type": "code",
   "execution_count": 72,
   "outputs": [
    {
     "data": {
      "text/plain": "Jane (2000-01-01) 1"
     },
     "execution_count": 72,
     "metadata": {},
     "output_type": "execute_result"
    }
   ],
   "source": [
    "jane"
   ],
   "metadata": {
    "collapsed": false,
    "ExecuteTime": {
     "end_time": "2023-06-01T04:49:04.959979Z",
     "start_time": "2023-06-01T04:49:04.951149Z"
    }
   }
  },
  {
   "cell_type": "code",
   "execution_count": 75,
   "outputs": [
    {
     "ename": "AttributeError",
     "evalue": "'int' object has no attribute 'split'",
     "output_type": "error",
     "traceback": [
      "\u001B[0;31m---------------------------------------------------------------------------\u001B[0m",
      "\u001B[0;31mAttributeError\u001B[0m                            Traceback (most recent call last)",
      "Cell \u001B[0;32mIn[75], line 1\u001B[0m\n\u001B[0;32m----> 1\u001B[0m \u001B[43mjane\u001B[49m\u001B[38;5;241;43m.\u001B[39;49m\u001B[43mgender\u001B[49m\u001B[38;5;241;43m.\u001B[39;49m\u001B[43msplit\u001B[49m()\n",
      "\u001B[0;31mAttributeError\u001B[0m: 'int' object has no attribute 'split'"
     ]
    }
   ],
   "source": [
    "jane.gender.split()"
   ],
   "metadata": {
    "collapsed": false,
    "ExecuteTime": {
     "end_time": "2023-06-01T04:50:35.148892Z",
     "start_time": "2023-06-01T04:50:35.139758Z"
    }
   }
  },
  {
   "cell_type": "code",
   "execution_count": 76,
   "outputs": [
    {
     "data": {
      "text/plain": "0.5"
     },
     "execution_count": 76,
     "metadata": {},
     "output_type": "execute_result"
    }
   ],
   "source": [
    "jane.gender / 2"
   ],
   "metadata": {
    "collapsed": false,
    "ExecuteTime": {
     "end_time": "2023-06-01T04:50:36.639984Z",
     "start_time": "2023-06-01T04:50:36.630202Z"
    }
   }
  },
  {
   "cell_type": "markdown",
   "source": [
    "## Cool tools\n",
    "\n",
    "### typing.NamedTuple"
   ],
   "metadata": {
    "collapsed": false
   }
  },
  {
   "cell_type": "code",
   "execution_count": 51,
   "outputs": [],
   "source": [
    "import typing\n",
    "\n",
    "\n",
    "class Employee(typing.NamedTuple):\n",
    "    first_name: str\n",
    "    last_name: str\n",
    "    country: str\n",
    "    jobs: list[str]\n",
    "    \n",
    "james = Employee(\"james\", \"bond\", \"United Kingdom\", [\"jet setter\", \"spy\", \"secret agent\"])"
   ],
   "metadata": {
    "collapsed": false,
    "ExecuteTime": {
     "end_time": "2023-06-01T04:45:16.017609Z",
     "start_time": "2023-06-01T04:45:16.009712Z"
    }
   }
  },
  {
   "cell_type": "code",
   "execution_count": 52,
   "outputs": [
    {
     "data": {
      "text/plain": "Employee(first_name='james', last_name='bond', country='United Kingdom', jobs=['jet setter', 'spy', 'secret agent'])"
     },
     "execution_count": 52,
     "metadata": {},
     "output_type": "execute_result"
    }
   ],
   "source": [
    "james"
   ],
   "metadata": {
    "collapsed": false,
    "ExecuteTime": {
     "end_time": "2023-06-01T04:45:16.219857Z",
     "start_time": "2023-06-01T04:45:16.210416Z"
    }
   }
  },
  {
   "cell_type": "code",
   "execution_count": 53,
   "outputs": [
    {
     "data": {
      "text/plain": "'james'"
     },
     "execution_count": 53,
     "metadata": {},
     "output_type": "execute_result"
    }
   ],
   "source": [
    "james.first_name"
   ],
   "metadata": {
    "collapsed": false,
    "ExecuteTime": {
     "end_time": "2023-06-01T04:45:16.419589Z",
     "start_time": "2023-06-01T04:45:16.411746Z"
    }
   }
  },
  {
   "cell_type": "code",
   "execution_count": 54,
   "outputs": [
    {
     "data": {
      "text/plain": "1"
     },
     "execution_count": 54,
     "metadata": {},
     "output_type": "execute_result"
    }
   ],
   "source": [
    "james.jobs.index(\"spy\")"
   ],
   "metadata": {
    "collapsed": false,
    "ExecuteTime": {
     "end_time": "2023-06-01T04:45:16.638073Z",
     "start_time": "2023-06-01T04:45:16.634306Z"
    }
   }
  },
  {
   "cell_type": "markdown",
   "source": [
    "### typing.TypedDict"
   ],
   "metadata": {
    "collapsed": false
   }
  },
  {
   "cell_type": "code",
   "execution_count": 55,
   "outputs": [],
   "source": [
    "class Point2D(typing.TypedDict):\n",
    "    x: int\n",
    "    y: int\n",
    "    label: str"
   ],
   "metadata": {
    "collapsed": false,
    "ExecuteTime": {
     "end_time": "2023-06-01T04:45:17.023194Z",
     "start_time": "2023-06-01T04:45:17.012654Z"
    }
   }
  },
  {
   "cell_type": "code",
   "execution_count": 56,
   "outputs": [],
   "source": [
    "a: Point2D = {'x': 1, 'y': 2, 'label': 'good'}  # OK"
   ],
   "metadata": {
    "collapsed": false,
    "ExecuteTime": {
     "end_time": "2023-06-01T04:45:17.243736Z",
     "start_time": "2023-06-01T04:45:17.231876Z"
    }
   }
  },
  {
   "cell_type": "code",
   "execution_count": 57,
   "outputs": [],
   "source": [
    "b: Point2D = {'x': 1, 'label': 'bad'}           # Fails type check"
   ],
   "metadata": {
    "collapsed": false,
    "ExecuteTime": {
     "end_time": "2023-06-01T04:45:17.436959Z",
     "start_time": "2023-06-01T04:45:17.426721Z"
    }
   }
  },
  {
   "cell_type": "code",
   "execution_count": 58,
   "outputs": [
    {
     "data": {
      "text/plain": "{'x': 1, 'label': 'bad'}"
     },
     "execution_count": 58,
     "metadata": {},
     "output_type": "execute_result"
    }
   ],
   "source": [
    "b"
   ],
   "metadata": {
    "collapsed": false,
    "ExecuteTime": {
     "end_time": "2023-06-01T04:45:17.620256Z",
     "start_time": "2023-06-01T04:45:17.609463Z"
    }
   }
  },
  {
   "cell_type": "code",
   "execution_count": 59,
   "outputs": [],
   "source": [
    "class Point2D(typing.TypedDict):\n",
    "    x: int\n",
    "    y: int\n",
    "    label: typing.NotRequired[str]"
   ],
   "metadata": {
    "collapsed": false,
    "ExecuteTime": {
     "end_time": "2023-06-01T04:45:17.812721Z",
     "start_time": "2023-06-01T04:45:17.803756Z"
    }
   }
  },
  {
   "cell_type": "code",
   "execution_count": 60,
   "outputs": [],
   "source": [
    "b: Point2D = {'x': 1, 'y': 2}           # Fails type check"
   ],
   "metadata": {
    "collapsed": false,
    "ExecuteTime": {
     "end_time": "2023-06-01T04:45:17.991229Z",
     "start_time": "2023-06-01T04:45:17.981017Z"
    }
   }
  },
  {
   "cell_type": "code",
   "execution_count": 61,
   "outputs": [],
   "source": [
    "# adding an extra value \n",
    "c: Point2D = {'x': 1, 'y': 2, 'z': 3}"
   ],
   "metadata": {
    "collapsed": false,
    "ExecuteTime": {
     "end_time": "2023-06-01T04:45:18.176562Z",
     "start_time": "2023-06-01T04:45:18.165453Z"
    }
   }
  },
  {
   "cell_type": "code",
   "execution_count": 62,
   "outputs": [],
   "source": [
    "class Point2D(typing.TypedDict, total=False):\n",
    "    x: int\n",
    "    y: int"
   ],
   "metadata": {
    "collapsed": false,
    "ExecuteTime": {
     "end_time": "2023-06-01T04:45:18.344385Z",
     "start_time": "2023-06-01T04:45:18.342716Z"
    }
   }
  },
  {
   "cell_type": "code",
   "execution_count": 63,
   "outputs": [],
   "source": [
    "b: Point2D = {'x': 1, 'y': 2}    "
   ],
   "metadata": {
    "collapsed": false,
    "ExecuteTime": {
     "end_time": "2023-06-01T04:45:18.543396Z",
     "start_time": "2023-06-01T04:45:18.535864Z"
    }
   }
  },
  {
   "cell_type": "code",
   "execution_count": 64,
   "outputs": [],
   "source": [
    "c: Point2D = {'x': 1, 'y': 2, 'z': 3}"
   ],
   "metadata": {
    "collapsed": false,
    "ExecuteTime": {
     "end_time": "2023-06-01T04:45:18.719597Z",
     "start_time": "2023-06-01T04:45:18.712023Z"
    }
   }
  },
  {
   "cell_type": "code",
   "execution_count": 65,
   "outputs": [
    {
     "data": {
      "text/plain": "True"
     },
     "execution_count": 65,
     "metadata": {},
     "output_type": "execute_result"
    }
   ],
   "source": [
    "# a typed dict is the equivalent of a dict \n",
    "Point2D(x=1, y=2, label='first') == dict(x=1, y=2, label='first')"
   ],
   "metadata": {
    "collapsed": false,
    "ExecuteTime": {
     "end_time": "2023-06-01T04:45:18.900952Z",
     "start_time": "2023-06-01T04:45:18.894031Z"
    }
   }
  },
  {
   "cell_type": "markdown",
   "source": [
    "### data classes\n"
   ],
   "metadata": {
    "collapsed": false
   }
  },
  {
   "cell_type": "code",
   "execution_count": 92,
   "outputs": [],
   "source": [
    "import dataclasses\n",
    "\n",
    "\n",
    "@dataclasses.dataclass\n",
    "class InventoryItem:\n",
    "    \"\"\"Class for keeping track of an item in inventory.\"\"\"\n",
    "    name: str\n",
    "    unit_price: float\n",
    "    quantity_on_hand: int = 0\n",
    "\n",
    "    def total_cost(self) -> float:\n",
    "        return self.unit_price * self.quantity_on_hand\n"
   ],
   "metadata": {
    "collapsed": false,
    "ExecuteTime": {
     "end_time": "2023-06-01T04:58:34.039751Z",
     "start_time": "2023-06-01T04:58:34.037797Z"
    }
   }
  },
  {
   "cell_type": "code",
   "execution_count": 93,
   "outputs": [
    {
     "data": {
      "text/plain": "True"
     },
     "execution_count": 93,
     "metadata": {},
     "output_type": "execute_result"
    }
   ],
   "source": [
    "item = InventoryItem(\"test item\", 20.00, 6)\n",
    "dataclasses.asdict(item) == {\"name\": \"test item\", \"unit_price\": 20.00, \"quantity_on_hand\": 6}"
   ],
   "metadata": {
    "collapsed": false,
    "ExecuteTime": {
     "end_time": "2023-06-01T04:58:34.331430Z",
     "start_time": "2023-06-01T04:58:34.328980Z"
    }
   }
  },
  {
   "cell_type": "code",
   "execution_count": 94,
   "outputs": [
    {
     "data": {
      "text/plain": "'test item'"
     },
     "execution_count": 94,
     "metadata": {},
     "output_type": "execute_result"
    }
   ],
   "source": [
    "item.name"
   ],
   "metadata": {
    "collapsed": false,
    "ExecuteTime": {
     "end_time": "2023-06-01T04:59:07.212225Z",
     "start_time": "2023-06-01T04:59:07.208548Z"
    }
   }
  },
  {
   "cell_type": "code",
   "execution_count": 95,
   "outputs": [
    {
     "data": {
      "text/plain": "120.0"
     },
     "execution_count": 95,
     "metadata": {},
     "output_type": "execute_result"
    }
   ],
   "source": [
    "item.total_cost()"
   ],
   "metadata": {
    "collapsed": false,
    "ExecuteTime": {
     "end_time": "2023-06-01T04:59:12.286672Z",
     "start_time": "2023-06-01T04:59:12.283977Z"
    }
   }
  },
  {
   "cell_type": "code",
   "execution_count": 96,
   "outputs": [],
   "source": [
    "# i wonder if this will raise a warning in VS Code? \n",
    "item.quantity_on_hand = \"16\""
   ],
   "metadata": {
    "collapsed": false,
    "ExecuteTime": {
     "end_time": "2023-06-01T04:59:25.241320Z",
     "start_time": "2023-06-01T04:59:25.231633Z"
    }
   }
  },
  {
   "cell_type": "code",
   "execution_count": 106,
   "outputs": [
    {
     "data": {
      "text/plain": "160.0"
     },
     "execution_count": 106,
     "metadata": {},
     "output_type": "execute_result"
    }
   ],
   "source": [
    "item.total_cost()\n"
   ],
   "metadata": {
    "collapsed": false,
    "ExecuteTime": {
     "end_time": "2023-06-01T05:07:23.577548Z",
     "start_time": "2023-06-01T05:07:23.571403Z"
    }
   }
  },
  {
   "cell_type": "markdown",
   "source": [
    "#### post_init"
   ],
   "metadata": {
    "collapsed": false
   }
  },
  {
   "cell_type": "code",
   "execution_count": 107,
   "outputs": [],
   "source": [
    "@dataclasses.dataclass\n",
    "class InventoryItem:\n",
    "    \"\"\"Class for keeping track of an item in inventory.\"\"\"\n",
    "    name: str\n",
    "    unit_price: float\n",
    "    quantity_on_hand: int = 0\n",
    "    date_created: datetime.datetime = dataclasses.field(init=False)\n",
    "    \n",
    "    def __post_init__(self):\n",
    "        self.date_created = datetime.datetime.now()\n",
    "\n",
    "    def total_cost(self) -> float:\n",
    "        return self.unit_price * self.quantity_on_hand\n"
   ],
   "metadata": {
    "collapsed": false,
    "ExecuteTime": {
     "end_time": "2023-06-01T05:07:24.607594Z",
     "start_time": "2023-06-01T05:07:24.603845Z"
    }
   }
  },
  {
   "cell_type": "code",
   "execution_count": 108,
   "outputs": [
    {
     "data": {
      "text/plain": "InventoryItem(name='test item', unit_price=20.0, quantity_on_hand=6, date_created=datetime.datetime(2023, 6, 1, 13, 7, 26, 175093))"
     },
     "execution_count": 108,
     "metadata": {},
     "output_type": "execute_result"
    }
   ],
   "source": [
    "item = InventoryItem(\"test item\", 20.00, 6)\n",
    "item"
   ],
   "metadata": {
    "collapsed": false,
    "ExecuteTime": {
     "end_time": "2023-06-01T05:07:26.179080Z",
     "start_time": "2023-06-01T05:07:26.176681Z"
    }
   }
  },
  {
   "cell_type": "markdown",
   "source": [
    "#### default factory"
   ],
   "metadata": {
    "collapsed": false
   }
  },
  {
   "cell_type": "code",
   "execution_count": 115,
   "outputs": [],
   "source": [
    "@dataclasses.dataclass\n",
    "class InventoryItem:\n",
    "    \"\"\"Class for keeping track of an item in inventory.\"\"\"\n",
    "    name: str\n",
    "    unit_price: float\n",
    "    quantity_on_hand: int = 0\n",
    "    date_created: datetime.datetime = dataclasses.field(init=False)\n",
    "    stock_history: list[int] = dataclasses.field(default_factory=list)\n",
    "    \n",
    "    def __post_init__(self):\n",
    "        self.date_created = datetime.datetime.now()\n",
    "        \n",
    "    def __add__(self, other:int):\n",
    "        \"\"\" override the + method \"\"\"\n",
    "        if type(other) != int:\n",
    "            raise ValueError(\"not an int\")\n",
    "        self.quantity_on_hand += other\n",
    "        self.stock_history.append(other)\n",
    "        \n",
    "    def __sub__(self, other):\n",
    "        \"\"\" override the - method \"\"\"\n",
    "        self.__add__(other * -1)\n",
    "\n",
    "    def total_cost(self) -> float:\n",
    "        return self.unit_price * self.quantity_on_hand"
   ],
   "metadata": {
    "collapsed": false,
    "ExecuteTime": {
     "end_time": "2023-06-01T05:09:17.555110Z",
     "start_time": "2023-06-01T05:09:17.550698Z"
    }
   }
  },
  {
   "cell_type": "code",
   "execution_count": 116,
   "outputs": [
    {
     "data": {
      "text/plain": "InventoryItem(name='test item', unit_price=20.0, quantity_on_hand=6, date_created=datetime.datetime(2023, 6, 1, 13, 9, 17, 972598), stock_history=[])"
     },
     "execution_count": 116,
     "metadata": {},
     "output_type": "execute_result"
    }
   ],
   "source": [
    "item = InventoryItem(\"test item\", 20.00, 6)\n",
    "item"
   ],
   "metadata": {
    "collapsed": false,
    "ExecuteTime": {
     "end_time": "2023-06-01T05:09:17.982109Z",
     "start_time": "2023-06-01T05:09:17.975672Z"
    }
   }
  },
  {
   "cell_type": "code",
   "execution_count": 117,
   "outputs": [
    {
     "data": {
      "text/plain": "InventoryItem(name='test item', unit_price=20.0, quantity_on_hand=7, date_created=datetime.datetime(2023, 6, 1, 13, 9, 17, 972598), stock_history=[1])"
     },
     "execution_count": 117,
     "metadata": {},
     "output_type": "execute_result"
    }
   ],
   "source": [
    "item + 1\n",
    "item"
   ],
   "metadata": {
    "collapsed": false,
    "ExecuteTime": {
     "end_time": "2023-06-01T05:09:20.258638Z",
     "start_time": "2023-06-01T05:09:20.238484Z"
    }
   }
  },
  {
   "cell_type": "code",
   "execution_count": 118,
   "outputs": [
    {
     "data": {
      "text/plain": "InventoryItem(name='test item', unit_price=20.0, quantity_on_hand=6, date_created=datetime.datetime(2023, 6, 1, 13, 9, 17, 972598), stock_history=[1, -1])"
     },
     "execution_count": 118,
     "metadata": {},
     "output_type": "execute_result"
    }
   ],
   "source": [
    "item - 1\n",
    "item\n"
   ],
   "metadata": {
    "collapsed": false,
    "ExecuteTime": {
     "end_time": "2023-06-01T05:09:23.335694Z",
     "start_time": "2023-06-01T05:09:23.322869Z"
    }
   }
  },
  {
   "cell_type": "code",
   "execution_count": 119,
   "outputs": [
    {
     "data": {
      "text/plain": "InventoryItem(name='test item', unit_price=20.0, quantity_on_hand=13, date_created=datetime.datetime(2023, 6, 1, 13, 9, 17, 972598), stock_history=[1, -1, 10, -9, 12, -6])"
     },
     "execution_count": 119,
     "metadata": {},
     "output_type": "execute_result"
    }
   ],
   "source": [
    "item + 10\n",
    "item - 9\n",
    "item + 12\n",
    "item - 6\n",
    "item\n"
   ],
   "metadata": {
    "collapsed": false,
    "ExecuteTime": {
     "end_time": "2023-06-01T05:09:43.573799Z",
     "start_time": "2023-06-01T05:09:43.557198Z"
    }
   }
  },
  {
   "cell_type": "code",
   "execution_count": null,
   "outputs": [],
   "source": [],
   "metadata": {
    "collapsed": false
   }
  }
 ],
 "metadata": {
  "kernelspec": {
   "display_name": "Python 3",
   "language": "python",
   "name": "python3"
  },
  "language_info": {
   "codemirror_mode": {
    "name": "ipython",
    "version": 2
   },
   "file_extension": ".py",
   "mimetype": "text/x-python",
   "name": "python",
   "nbconvert_exporter": "python",
   "pygments_lexer": "ipython2",
   "version": "2.7.6"
  }
 },
 "nbformat": 4,
 "nbformat_minor": 0
}
